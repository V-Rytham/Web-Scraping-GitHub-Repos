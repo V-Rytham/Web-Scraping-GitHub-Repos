{
 "cells": [
  {
   "cell_type": "markdown",
   "id": "0bd011b8",
   "metadata": {},
   "source": [
    "# Top Repositories for Github Topics"
   ]
  },
  {
   "cell_type": "code",
   "execution_count": null,
   "id": "85d01a89",
   "metadata": {},
   "outputs": [],
   "source": [
    "    "
   ]
  },
  {
   "cell_type": "code",
   "execution_count": null,
   "id": "8511db27",
   "metadata": {},
   "outputs": [],
   "source": []
  },
  {
   "cell_type": "markdown",
   "id": "858f3ccf",
   "metadata": {},
   "source": [
    "## Pick a website and describe your objective "
   ]
  },
  {
   "cell_type": "markdown",
   "id": "08c02361",
   "metadata": {},
   "source": [
    "### Project Outline: \n",
    "\n",
    "-  we are going to scrape https://github.com/topics\n",
    "- We'll get a list of topics . For each topic, we'll get topic title, topic page URL and topic description \n",
    "- For each topic,we'll get the top 25 repositories in the topic from the topic page\n",
    "- For each repository, we'll grab the repo name, user name, stars and repo URL \n",
    "\n",
    "```\n",
    "    Repo Name,Username,Stars,Repo URL   \n",
    "    mrdoob,threejs,96900,https://github.com/mrdoob/three.js\t\n",
    "    pmndrs,react-three-fiber,250000,https://github.com/pmndrs/react-three-fiber\t\n",
    "```\n"
   ]
  },
  {
   "cell_type": "code",
   "execution_count": 12,
   "id": "029fd976",
   "metadata": {},
   "outputs": [],
   "source": [
    "!pip install beautifulsoup4 --upgrade --quiet\n",
    "from bs4 import BeautifulSoup"
   ]
  },
  {
   "cell_type": "code",
   "execution_count": 13,
   "id": "320f8cf7",
   "metadata": {},
   "outputs": [],
   "source": [
    "!pip install requests --upgrade --quiet"
   ]
  },
  {
   "cell_type": "code",
   "execution_count": 14,
   "id": "af028f80",
   "metadata": {},
   "outputs": [],
   "source": [
    "import requests"
   ]
  },
  {
   "cell_type": "code",
   "execution_count": 15,
   "id": "af504878",
   "metadata": {},
   "outputs": [],
   "source": [
    "!pip install pandas --upgrade --quiet\n",
    "import pandas as pd"
   ]
  },
  {
   "cell_type": "code",
   "execution_count": 16,
   "id": "f7ce1b82",
   "metadata": {},
   "outputs": [],
   "source": [
    "github_url= \"https://github.com/topics\"\n",
    "response = requests.get(github_url);\n",
    "response.status_code\n",
    "doc=get_page(github_url)"
   ]
  },
  {
   "cell_type": "code",
   "execution_count": 17,
   "id": "a9cad190",
   "metadata": {},
   "outputs": [],
   "source": [
    "page_contents=response.text \n",
    "with open(\"webpage.html\",'w', encoding='utf-8') as file:\n",
    "    file.write(page_contents)"
   ]
  },
  {
   "cell_type": "code",
   "execution_count": 18,
   "id": "d1a62267",
   "metadata": {},
   "outputs": [],
   "source": [
    "doc= BeautifulSoup(page_contents,'html.parser')\n",
    "topic_title_tags=doc.find_all('p',class_=\"f3 lh-condensed mb-0 mt-1 Link--primary\")"
   ]
  },
  {
   "cell_type": "code",
   "execution_count": 19,
   "id": "334f11ce",
   "metadata": {},
   "outputs": [
    {
     "data": {
      "text/plain": [
       "30"
      ]
     },
     "execution_count": 19,
     "metadata": {},
     "output_type": "execute_result"
    }
   ],
   "source": [
    "len(topic_title_tags)"
   ]
  },
  {
   "cell_type": "code",
   "execution_count": 20,
   "id": "3455c94d",
   "metadata": {
    "scrolled": true
   },
   "outputs": [
    {
     "data": {
      "text/plain": [
       "'3D'"
      ]
     },
     "execution_count": 20,
     "metadata": {},
     "output_type": "execute_result"
    }
   ],
   "source": [
    "topic_title_tags[0].text.strip()"
   ]
  },
  {
   "cell_type": "code",
   "execution_count": 21,
   "id": "84382239",
   "metadata": {},
   "outputs": [
    {
     "data": {
      "text/plain": [
       "bs4.element.ResultSet"
      ]
     },
     "execution_count": 21,
     "metadata": {},
     "output_type": "execute_result"
    }
   ],
   "source": [
    "topic_desc_tags=doc.find_all('p',class_='f5 color-fg-muted mb-0 mt-1')\n",
    "type(topic_desc_tags)"
   ]
  },
  {
   "cell_type": "code",
   "execution_count": 22,
   "id": "5d3efebd",
   "metadata": {},
   "outputs": [],
   "source": [
    "topic_title_tag0=topic_title_tags[0]\n",
    "div_tag=topic_title_tag0.parent #element tag"
   ]
  },
  {
   "cell_type": "code",
   "execution_count": 23,
   "id": "bd8fce56",
   "metadata": {},
   "outputs": [],
   "source": [
    "topic_link_tags = doc.find_all('a',class_=\"no-underline flex-1 d-flex flex-column\")"
   ]
  },
  {
   "cell_type": "code",
   "execution_count": 24,
   "id": "a4a80c94",
   "metadata": {},
   "outputs": [
    {
     "data": {
      "text/plain": [
       "'https://github.com/topics/3d'"
      ]
     },
     "execution_count": 24,
     "metadata": {},
     "output_type": "execute_result"
    }
   ],
   "source": [
    "topic0_url=\"https://github.com\"+topic_link_tags[0]['href']\n",
    "topic0_url"
   ]
  },
  {
   "cell_type": "code",
   "execution_count": 25,
   "id": "ad0105b6",
   "metadata": {},
   "outputs": [
    {
     "data": {
      "text/plain": [
       "'3D'"
      ]
     },
     "execution_count": 25,
     "metadata": {},
     "output_type": "execute_result"
    }
   ],
   "source": [
    "topic_title_tags[0].text"
   ]
  },
  {
   "cell_type": "code",
   "execution_count": 26,
   "id": "b42337c1",
   "metadata": {},
   "outputs": [],
   "source": [
    "topic_title =[]\n",
    "topic_descs=[]\n",
    "i=0;\n",
    "for tag in topic_title_tags:\n",
    "    topic_title.append(tag.text)\n",
    "for tag in topic_desc_tags:\n",
    "    topic_descs.append(tag.text.strip())\n",
    "    "
   ]
  },
  {
   "cell_type": "code",
   "execution_count": 27,
   "id": "76a73a52",
   "metadata": {},
   "outputs": [
    {
     "data": {
      "text/plain": [
       "['3D',\n",
       " 'Ajax',\n",
       " 'Algorithm',\n",
       " 'Amp',\n",
       " 'Android',\n",
       " 'Angular',\n",
       " 'Ansible',\n",
       " 'API',\n",
       " 'Arduino',\n",
       " 'ASP.NET',\n",
       " 'Atom',\n",
       " 'Awesome Lists',\n",
       " 'Amazon Web Services',\n",
       " 'Azure',\n",
       " 'Babel',\n",
       " 'Bash',\n",
       " 'Bitcoin',\n",
       " 'Bootstrap',\n",
       " 'Bot',\n",
       " 'C',\n",
       " 'Chrome',\n",
       " 'Chrome extension',\n",
       " 'Command line interface',\n",
       " 'Clojure',\n",
       " 'Code quality',\n",
       " 'Code review',\n",
       " 'Compiler',\n",
       " 'Continuous integration',\n",
       " 'COVID-19',\n",
       " 'C++']"
      ]
     },
     "execution_count": 27,
     "metadata": {},
     "output_type": "execute_result"
    }
   ],
   "source": [
    "topic_title"
   ]
  },
  {
   "cell_type": "code",
   "execution_count": 28,
   "id": "0fe0b62b",
   "metadata": {},
   "outputs": [
    {
     "data": {
      "text/plain": [
       "<a class=\"no-underline flex-1 d-flex flex-column\" href=\"/topics/cpp\">\n",
       "<p class=\"f3 lh-condensed mb-0 mt-1 Link--primary\">C++</p>\n",
       "<p class=\"f5 color-fg-muted mb-0 mt-1\">\n",
       "          C++ is a general purpose and object-oriented programming language.\n",
       "        </p>\n",
       "</a>"
      ]
     },
     "execution_count": 28,
     "metadata": {},
     "output_type": "execute_result"
    }
   ],
   "source": [
    "import requests\n",
    "from bs4 import BeautifulSoup\n",
    "url=\"https://github.com/topics\"\n",
    "response = requests.get(url);\n",
    "page_contents=response.text;\n",
    "doc= BeautifulSoup(page_contents,'html.parser');\n",
    "doc.find_all('a',class_=\"no-underline flex-1 d-flex flex-column\")[29]"
   ]
  },
  {
   "cell_type": "code",
   "execution_count": 33,
   "id": "e7fddae6",
   "metadata": {},
   "outputs": [
    {
     "data": {
      "text/plain": [
       "[<a class=\"no-underline flex-1 d-flex flex-column\" href=\"/topics/3d\">\n",
       " <p class=\"f3 lh-condensed mb-0 mt-1 Link--primary\">3D</p>\n",
       " <p class=\"f5 color-fg-muted mb-0 mt-1\">\n",
       "           3D refers to the use of three-dimensional graphics, modeling, and animation in various industries.\n",
       "         </p>\n",
       " </a>,\n",
       " <a class=\"no-underline flex-1 d-flex flex-column\" href=\"/topics/ajax\">\n",
       " <p class=\"f3 lh-condensed mb-0 mt-1 Link--primary\">Ajax</p>\n",
       " <p class=\"f5 color-fg-muted mb-0 mt-1\">\n",
       "           Ajax is a technique for creating interactive web applications.\n",
       "         </p>\n",
       " </a>,\n",
       " <a class=\"no-underline flex-1 d-flex flex-column\" href=\"/topics/algorithm\">\n",
       " <p class=\"f3 lh-condensed mb-0 mt-1 Link--primary\">Algorithm</p>\n",
       " <p class=\"f5 color-fg-muted mb-0 mt-1\">\n",
       "           Algorithms are self-contained sequences that carry out a variety of tasks.\n",
       "         </p>\n",
       " </a>,\n",
       " <a class=\"no-underline flex-1 d-flex flex-column\" href=\"/topics/amphp\">\n",
       " <p class=\"f3 lh-condensed mb-0 mt-1 Link--primary\">Amp</p>\n",
       " <p class=\"f5 color-fg-muted mb-0 mt-1\">\n",
       "           Amp is a non-blocking concurrency library for PHP.\n",
       "         </p>\n",
       " </a>,\n",
       " <a class=\"no-underline flex-1 d-flex flex-column\" href=\"/topics/android\">\n",
       " <p class=\"f3 lh-condensed mb-0 mt-1 Link--primary\">Android</p>\n",
       " <p class=\"f5 color-fg-muted mb-0 mt-1\">\n",
       "           Android is an operating system built by Google designed for mobile devices.\n",
       "         </p>\n",
       " </a>,\n",
       " <a class=\"no-underline flex-1 d-flex flex-column\" href=\"/topics/angular\">\n",
       " <p class=\"f3 lh-condensed mb-0 mt-1 Link--primary\">Angular</p>\n",
       " <p class=\"f5 color-fg-muted mb-0 mt-1\">\n",
       "           Angular is an open source web application platform.\n",
       "         </p>\n",
       " </a>,\n",
       " <a class=\"no-underline flex-1 d-flex flex-column\" href=\"/topics/ansible\">\n",
       " <p class=\"f3 lh-condensed mb-0 mt-1 Link--primary\">Ansible</p>\n",
       " <p class=\"f5 color-fg-muted mb-0 mt-1\">\n",
       "           Ansible is a simple and powerful automation engine.\n",
       "         </p>\n",
       " </a>,\n",
       " <a class=\"no-underline flex-1 d-flex flex-column\" href=\"/topics/api\">\n",
       " <p class=\"f3 lh-condensed mb-0 mt-1 Link--primary\">API</p>\n",
       " <p class=\"f5 color-fg-muted mb-0 mt-1\">\n",
       "           An API (Application Programming Interface) is a collection of protocols and subroutines for building software.\n",
       "         </p>\n",
       " </a>,\n",
       " <a class=\"no-underline flex-1 d-flex flex-column\" href=\"/topics/arduino\">\n",
       " <p class=\"f3 lh-condensed mb-0 mt-1 Link--primary\">Arduino</p>\n",
       " <p class=\"f5 color-fg-muted mb-0 mt-1\">\n",
       "           Arduino is an open source platform for building electronic devices.\n",
       "         </p>\n",
       " </a>,\n",
       " <a class=\"no-underline flex-1 d-flex flex-column\" href=\"/topics/aspnet\">\n",
       " <p class=\"f3 lh-condensed mb-0 mt-1 Link--primary\">ASP.NET</p>\n",
       " <p class=\"f5 color-fg-muted mb-0 mt-1\">\n",
       "           ASP.NET is a web framework for building modern web apps and services.\n",
       "         </p>\n",
       " </a>,\n",
       " <a class=\"no-underline flex-1 d-flex flex-column\" href=\"/topics/atom\">\n",
       " <p class=\"f3 lh-condensed mb-0 mt-1 Link--primary\">Atom</p>\n",
       " <p class=\"f5 color-fg-muted mb-0 mt-1\">\n",
       "           Atom is a open source text editor built with web technologies.\n",
       "         </p>\n",
       " </a>,\n",
       " <a class=\"no-underline flex-1 d-flex flex-column\" href=\"/topics/awesome\">\n",
       " <p class=\"f3 lh-condensed mb-0 mt-1 Link--primary\">Awesome Lists</p>\n",
       " <p class=\"f5 color-fg-muted mb-0 mt-1\">\n",
       "           An awesome list is a list of awesome things curated by the community.\n",
       "         </p>\n",
       " </a>,\n",
       " <a class=\"no-underline flex-1 d-flex flex-column\" href=\"/topics/aws\">\n",
       " <p class=\"f3 lh-condensed mb-0 mt-1 Link--primary\">Amazon Web Services</p>\n",
       " <p class=\"f5 color-fg-muted mb-0 mt-1\">\n",
       "           Amazon Web Services provides on-demand cloud computing platforms on a subscription basis.\n",
       "         </p>\n",
       " </a>,\n",
       " <a class=\"no-underline flex-1 d-flex flex-column\" href=\"/topics/azure\">\n",
       " <p class=\"f3 lh-condensed mb-0 mt-1 Link--primary\">Azure</p>\n",
       " <p class=\"f5 color-fg-muted mb-0 mt-1\">\n",
       "           Azure is a cloud computing service created by Microsoft.\n",
       "         </p>\n",
       " </a>,\n",
       " <a class=\"no-underline flex-1 d-flex flex-column\" href=\"/topics/babel\">\n",
       " <p class=\"f3 lh-condensed mb-0 mt-1 Link--primary\">Babel</p>\n",
       " <p class=\"f5 color-fg-muted mb-0 mt-1\">\n",
       "           Babel is a compiler for writing next generation JavaScript, today.\n",
       "         </p>\n",
       " </a>,\n",
       " <a class=\"no-underline flex-1 d-flex flex-column\" href=\"/topics/bash\">\n",
       " <p class=\"f3 lh-condensed mb-0 mt-1 Link--primary\">Bash</p>\n",
       " <p class=\"f5 color-fg-muted mb-0 mt-1\">\n",
       "           Bash is a shell and command language interpreter for the GNU operating system.\n",
       "         </p>\n",
       " </a>,\n",
       " <a class=\"no-underline flex-1 d-flex flex-column\" href=\"/topics/bitcoin\">\n",
       " <p class=\"f3 lh-condensed mb-0 mt-1 Link--primary\">Bitcoin</p>\n",
       " <p class=\"f5 color-fg-muted mb-0 mt-1\">\n",
       "           Bitcoin is a cryptocurrency developed by Satoshi Nakamoto.\n",
       "         </p>\n",
       " </a>,\n",
       " <a class=\"no-underline flex-1 d-flex flex-column\" href=\"/topics/bootstrap\">\n",
       " <p class=\"f3 lh-condensed mb-0 mt-1 Link--primary\">Bootstrap</p>\n",
       " <p class=\"f5 color-fg-muted mb-0 mt-1\">\n",
       "           Bootstrap is an HTML, CSS, and JavaScript framework.\n",
       "         </p>\n",
       " </a>,\n",
       " <a class=\"no-underline flex-1 d-flex flex-column\" href=\"/topics/bot\">\n",
       " <p class=\"f3 lh-condensed mb-0 mt-1 Link--primary\">Bot</p>\n",
       " <p class=\"f5 color-fg-muted mb-0 mt-1\">\n",
       "           A bot is an application that runs automated tasks over the Internet.\n",
       "         </p>\n",
       " </a>,\n",
       " <a class=\"no-underline flex-1 d-flex flex-column\" href=\"/topics/c\">\n",
       " <p class=\"f3 lh-condensed mb-0 mt-1 Link--primary\">C</p>\n",
       " <p class=\"f5 color-fg-muted mb-0 mt-1\">\n",
       "           C is a general purpose programming language that first appeared in 1972.\n",
       "         </p>\n",
       " </a>,\n",
       " <a class=\"no-underline flex-1 d-flex flex-column\" href=\"/topics/chrome\">\n",
       " <p class=\"f3 lh-condensed mb-0 mt-1 Link--primary\">Chrome</p>\n",
       " <p class=\"f5 color-fg-muted mb-0 mt-1\">\n",
       "           Chrome is a web browser from the tech company Google.\n",
       "         </p>\n",
       " </a>,\n",
       " <a class=\"no-underline flex-1 d-flex flex-column\" href=\"/topics/chrome-extension\">\n",
       " <p class=\"f3 lh-condensed mb-0 mt-1 Link--primary\">Chrome extension</p>\n",
       " <p class=\"f5 color-fg-muted mb-0 mt-1\">\n",
       "           Chrome extensions enable users to customize the Chrome browsing experience.\n",
       "         </p>\n",
       " </a>,\n",
       " <a class=\"no-underline flex-1 d-flex flex-column\" href=\"/topics/cli\">\n",
       " <p class=\"f3 lh-condensed mb-0 mt-1 Link--primary\">Command line interface</p>\n",
       " <p class=\"f5 color-fg-muted mb-0 mt-1\">\n",
       "           A CLI, or command-line interface, is a console that helps users issue commands to a program.\n",
       "         </p>\n",
       " </a>,\n",
       " <a class=\"no-underline flex-1 d-flex flex-column\" href=\"/topics/clojure\">\n",
       " <p class=\"f3 lh-condensed mb-0 mt-1 Link--primary\">Clojure</p>\n",
       " <p class=\"f5 color-fg-muted mb-0 mt-1\">\n",
       "           Clojure is a dynamic, general-purpose programming language.\n",
       "         </p>\n",
       " </a>,\n",
       " <a class=\"no-underline flex-1 d-flex flex-column\" href=\"/topics/code-quality\">\n",
       " <p class=\"f3 lh-condensed mb-0 mt-1 Link--primary\">Code quality</p>\n",
       " <p class=\"f5 color-fg-muted mb-0 mt-1\">\n",
       "           Automate your code review with style, quality, security, and test‑coverage checks when you need them.\n",
       "         </p>\n",
       " </a>,\n",
       " <a class=\"no-underline flex-1 d-flex flex-column\" href=\"/topics/code-review\">\n",
       " <p class=\"f3 lh-condensed mb-0 mt-1 Link--primary\">Code review</p>\n",
       " <p class=\"f5 color-fg-muted mb-0 mt-1\">\n",
       "           Ensure your code meets quality standards and ship with confidence.\n",
       "         </p>\n",
       " </a>,\n",
       " <a class=\"no-underline flex-1 d-flex flex-column\" href=\"/topics/compiler\">\n",
       " <p class=\"f3 lh-condensed mb-0 mt-1 Link--primary\">Compiler</p>\n",
       " <p class=\"f5 color-fg-muted mb-0 mt-1\">\n",
       "           Compilers are software that translate higher-level programming languages to lower-level languages (e.g. machine code).\n",
       "         </p>\n",
       " </a>,\n",
       " <a class=\"no-underline flex-1 d-flex flex-column\" href=\"/topics/continuous-integration\">\n",
       " <p class=\"f3 lh-condensed mb-0 mt-1 Link--primary\">Continuous integration</p>\n",
       " <p class=\"f5 color-fg-muted mb-0 mt-1\">\n",
       "           Automatically build and test your code as you push it upstream, preventing bugs from being deployed to production.\n",
       "         </p>\n",
       " </a>,\n",
       " <a class=\"no-underline flex-1 d-flex flex-column\" href=\"/topics/covid-19\">\n",
       " <p class=\"f3 lh-condensed mb-0 mt-1 Link--primary\">COVID-19</p>\n",
       " <p class=\"f5 color-fg-muted mb-0 mt-1\">\n",
       "           The coronavirus disease 2019 (COVID-19) is an infectious disease caused by SARS-CoV-2.\n",
       "         </p>\n",
       " </a>,\n",
       " <a class=\"no-underline flex-1 d-flex flex-column\" href=\"/topics/cpp\">\n",
       " <p class=\"f3 lh-condensed mb-0 mt-1 Link--primary\">C++</p>\n",
       " <p class=\"f5 color-fg-muted mb-0 mt-1\">\n",
       "           C++ is a general purpose and object-oriented programming language.\n",
       "         </p>\n",
       " </a>]"
      ]
     },
     "execution_count": 33,
     "metadata": {},
     "output_type": "execute_result"
    }
   ],
   "source": [
    "doc.find_all('a',class_=\"no-underline flex-1 d-flex flex-column\")"
   ]
  },
  {
   "cell_type": "code",
   "execution_count": 30,
   "id": "425e4fe7",
   "metadata": {},
   "outputs": [],
   "source": [
    "#Defining a function which sends a get request and returns beautiful soup document if the request is successful \n",
    "def get_page(url):\n",
    "    response = requests.get(url);\n",
    "    if(response.status_code>=200 and response.status_code<=299):\n",
    "        page_contents=response.text;\n",
    "        doc= BeautifulSoup(page_contents,'html.parser');\n",
    "        return doc;\n",
    "    else:\n",
    "        raise Exception(\"Unable to fetch the given page\");\n",
    "\n",
    "'''Defining a function which takes a beautiful soup doc and parses each topic of the given page and returns a csv file containing the information in the following format \n",
    "title,description,url'''\n",
    "def parse_page(doc):\n",
    "    topic_title=[];\n",
    "    topic_descs=[];\n",
    "    topic_url=[];\n",
    "    topic_title_tags=doc.find_all('p',class_=\"f3 lh-condensed mb-0 mt-1 Link--primary\");\n",
    "    for tag in topic_title_tags:\n",
    "            topic_title.append(tag.text);\n",
    "            \n",
    "    topic_desc_tags=doc.find_all('p',class_=\"f5 color-fg-muted mb-0 mt-1\")\n",
    "    for tag in topic_desc_tags:\n",
    "            topic_descs.append(tag.text.strip());\n",
    "            \n",
    "    topic_link_tags = doc.find_all('a',class_=\"no-underline flex-1 d-flex flex-column\")\n",
    "    base_url=\"https://github.com/topic/\"\n",
    "    for tag in topic_link_tags:\n",
    "        link=tag['href']\n",
    "        topic_url.append(base_url+link);\n",
    "\n",
    "    #read the above data to pandas df and convert it to csv\n",
    "    topic_dict={\n",
    "        'title':topic_title,\n",
    "        'description':topic_descs,\n",
    "        'url':topic_url\n",
    "    }\n",
    "    topic_df=pd.DataFrame(topic_dict)\n",
    "    topic_df.to_csv('topics.csv',index=None)\n",
    "    return topic_dict\n",
    "    \n",
    "    \n",
    "\n",
    "        \n",
    "    \n",
    "    "
   ]
  },
  {
   "cell_type": "code",
   "execution_count": 11,
   "id": "4a812527",
   "metadata": {},
   "outputs": [
    {
     "ename": "NameError",
     "evalue": "name 'pd' is not defined",
     "output_type": "error",
     "traceback": [
      "\u001b[1;31m---------------------------------------------------------------------------\u001b[0m",
      "\u001b[1;31mNameError\u001b[0m                                 Traceback (most recent call last)",
      "Cell \u001b[1;32mIn[11], line 2\u001b[0m\n\u001b[0;32m      1\u001b[0m doc\u001b[38;5;241m=\u001b[39mget_page(\u001b[38;5;124m\"\u001b[39m\u001b[38;5;124mhttps://github.com/topics\u001b[39m\u001b[38;5;124m\"\u001b[39m)\n\u001b[1;32m----> 2\u001b[0m topic_dict\u001b[38;5;241m=\u001b[39m parse_page(doc)\n",
      "Cell \u001b[1;32mIn[10], line 37\u001b[0m, in \u001b[0;36mparse_page\u001b[1;34m(doc)\u001b[0m\n\u001b[0;32m     31\u001b[0m \u001b[38;5;66;03m#read the above data to pandas df and convert it to csv\u001b[39;00m\n\u001b[0;32m     32\u001b[0m topic_dict\u001b[38;5;241m=\u001b[39m{\n\u001b[0;32m     33\u001b[0m     \u001b[38;5;124m'\u001b[39m\u001b[38;5;124mtitle\u001b[39m\u001b[38;5;124m'\u001b[39m:topic_title,\n\u001b[0;32m     34\u001b[0m     \u001b[38;5;124m'\u001b[39m\u001b[38;5;124mdescription\u001b[39m\u001b[38;5;124m'\u001b[39m:topic_descs,\n\u001b[0;32m     35\u001b[0m     \u001b[38;5;124m'\u001b[39m\u001b[38;5;124murl\u001b[39m\u001b[38;5;124m'\u001b[39m:topic_url\n\u001b[0;32m     36\u001b[0m }\n\u001b[1;32m---> 37\u001b[0m topic_df\u001b[38;5;241m=\u001b[39mpd\u001b[38;5;241m.\u001b[39mDataFrame(topic_dict)\n\u001b[0;32m     38\u001b[0m topic_df\u001b[38;5;241m.\u001b[39mto_csv(\u001b[38;5;124m'\u001b[39m\u001b[38;5;124mtopics.csv\u001b[39m\u001b[38;5;124m'\u001b[39m,index\u001b[38;5;241m=\u001b[39m\u001b[38;5;28;01mNone\u001b[39;00m)\n\u001b[0;32m     39\u001b[0m \u001b[38;5;28;01mreturn\u001b[39;00m topic_dict\n",
      "\u001b[1;31mNameError\u001b[0m: name 'pd' is not defined"
     ]
    }
   ],
   "source": [
    "doc=get_page(\"https://github.com/topics\")\n",
    "topic_dict= parse_page(doc)"
   ]
  },
  {
   "cell_type": "code",
   "execution_count": null,
   "id": "30b25285",
   "metadata": {},
   "outputs": [],
   "source": [
    "topic_dict[]"
   ]
  },
  {
   "cell_type": "code",
   "execution_count": 146,
   "id": "ef23fb29",
   "metadata": {},
   "outputs": [],
   "source": [
    "topic_title=[];\n",
    "topic_descs=[];\n",
    "topic_title_tags=doc.find_all('p',class_=\"f3 lh-condensed mb-0 mt-1 Link--primary\");\n",
    "for tag in topic_title_tags:\n",
    "    topic_title.append(tag.text);\n",
    "doc=get_page(\"https://github.com/topic/COVID-19\")"
   ]
  },
  {
   "cell_type": "code",
   "execution_count": 145,
   "id": "904c04ac",
   "metadata": {},
   "outputs": [
    {
     "ename": "ValueError",
     "evalue": "All arrays must be of the same length",
     "output_type": "error",
     "traceback": [
      "\u001b[1;31m---------------------------------------------------------------------------\u001b[0m",
      "\u001b[1;31mValueError\u001b[0m                                Traceback (most recent call last)",
      "Cell \u001b[1;32mIn[145], line 35\u001b[0m\n\u001b[0;32m     33\u001b[0m     topic_df\u001b[38;5;241m.\u001b[39mto_csv(\u001b[38;5;124m'\u001b[39m\u001b[38;5;124mtopics.csv\u001b[39m\u001b[38;5;124m'\u001b[39m,index\u001b[38;5;241m=\u001b[39m\u001b[38;5;28;01mNone\u001b[39;00m)\n\u001b[0;32m     34\u001b[0m     \u001b[38;5;28;01mreturn\u001b[39;00m topic_dict\n\u001b[1;32m---> 35\u001b[0m parse_page(get_page(\u001b[38;5;124m\"\u001b[39m\u001b[38;5;124mhttps://github.com/topic/COVID-19\u001b[39m\u001b[38;5;124m\"\u001b[39m))\n",
      "Cell \u001b[1;32mIn[145], line 32\u001b[0m, in \u001b[0;36mparse_page\u001b[1;34m(doc)\u001b[0m\n\u001b[0;32m     26\u001b[0m \u001b[38;5;66;03m#read the above data to pandas df and convert it to csv\u001b[39;00m\n\u001b[0;32m     27\u001b[0m topic_dict\u001b[38;5;241m=\u001b[39m{\n\u001b[0;32m     28\u001b[0m     \u001b[38;5;124m'\u001b[39m\u001b[38;5;124mtitle\u001b[39m\u001b[38;5;124m'\u001b[39m:topic_title,\n\u001b[0;32m     29\u001b[0m     \u001b[38;5;124m'\u001b[39m\u001b[38;5;124mdescription\u001b[39m\u001b[38;5;124m'\u001b[39m:topic_descs,\n\u001b[0;32m     30\u001b[0m     \u001b[38;5;124m'\u001b[39m\u001b[38;5;124murl\u001b[39m\u001b[38;5;124m'\u001b[39m:topic_url\n\u001b[0;32m     31\u001b[0m }\n\u001b[1;32m---> 32\u001b[0m topic_df\u001b[38;5;241m=\u001b[39mpd\u001b[38;5;241m.\u001b[39mDataFrame(topic_dict)\n\u001b[0;32m     33\u001b[0m topic_df\u001b[38;5;241m.\u001b[39mto_csv(\u001b[38;5;124m'\u001b[39m\u001b[38;5;124mtopics.csv\u001b[39m\u001b[38;5;124m'\u001b[39m,index\u001b[38;5;241m=\u001b[39m\u001b[38;5;28;01mNone\u001b[39;00m)\n\u001b[0;32m     34\u001b[0m \u001b[38;5;28;01mreturn\u001b[39;00m topic_dict\n",
      "File \u001b[1;32mC:\\Anaconda\\Lib\\site-packages\\pandas\\core\\frame.py:733\u001b[0m, in \u001b[0;36mDataFrame.__init__\u001b[1;34m(self, data, index, columns, dtype, copy)\u001b[0m\n\u001b[0;32m    727\u001b[0m     mgr \u001b[38;5;241m=\u001b[39m \u001b[38;5;28mself\u001b[39m\u001b[38;5;241m.\u001b[39m_init_mgr(\n\u001b[0;32m    728\u001b[0m         data, axes\u001b[38;5;241m=\u001b[39m{\u001b[38;5;124m\"\u001b[39m\u001b[38;5;124mindex\u001b[39m\u001b[38;5;124m\"\u001b[39m: index, \u001b[38;5;124m\"\u001b[39m\u001b[38;5;124mcolumns\u001b[39m\u001b[38;5;124m\"\u001b[39m: columns}, dtype\u001b[38;5;241m=\u001b[39mdtype, copy\u001b[38;5;241m=\u001b[39mcopy\n\u001b[0;32m    729\u001b[0m     )\n\u001b[0;32m    731\u001b[0m \u001b[38;5;28;01melif\u001b[39;00m \u001b[38;5;28misinstance\u001b[39m(data, \u001b[38;5;28mdict\u001b[39m):\n\u001b[0;32m    732\u001b[0m     \u001b[38;5;66;03m# GH#38939 de facto copy defaults to False only in non-dict cases\u001b[39;00m\n\u001b[1;32m--> 733\u001b[0m     mgr \u001b[38;5;241m=\u001b[39m dict_to_mgr(data, index, columns, dtype\u001b[38;5;241m=\u001b[39mdtype, copy\u001b[38;5;241m=\u001b[39mcopy, typ\u001b[38;5;241m=\u001b[39mmanager)\n\u001b[0;32m    734\u001b[0m \u001b[38;5;28;01melif\u001b[39;00m \u001b[38;5;28misinstance\u001b[39m(data, ma\u001b[38;5;241m.\u001b[39mMaskedArray):\n\u001b[0;32m    735\u001b[0m     \u001b[38;5;28;01mfrom\u001b[39;00m \u001b[38;5;21;01mnumpy\u001b[39;00m\u001b[38;5;21;01m.\u001b[39;00m\u001b[38;5;21;01mma\u001b[39;00m \u001b[38;5;28;01mimport\u001b[39;00m mrecords\n",
      "File \u001b[1;32mC:\\Anaconda\\Lib\\site-packages\\pandas\\core\\internals\\construction.py:503\u001b[0m, in \u001b[0;36mdict_to_mgr\u001b[1;34m(data, index, columns, dtype, typ, copy)\u001b[0m\n\u001b[0;32m    499\u001b[0m     \u001b[38;5;28;01melse\u001b[39;00m:\n\u001b[0;32m    500\u001b[0m         \u001b[38;5;66;03m# dtype check to exclude e.g. range objects, scalars\u001b[39;00m\n\u001b[0;32m    501\u001b[0m         arrays \u001b[38;5;241m=\u001b[39m [x\u001b[38;5;241m.\u001b[39mcopy() \u001b[38;5;28;01mif\u001b[39;00m \u001b[38;5;28mhasattr\u001b[39m(x, \u001b[38;5;124m\"\u001b[39m\u001b[38;5;124mdtype\u001b[39m\u001b[38;5;124m\"\u001b[39m) \u001b[38;5;28;01melse\u001b[39;00m x \u001b[38;5;28;01mfor\u001b[39;00m x \u001b[38;5;129;01min\u001b[39;00m arrays]\n\u001b[1;32m--> 503\u001b[0m \u001b[38;5;28;01mreturn\u001b[39;00m arrays_to_mgr(arrays, columns, index, dtype\u001b[38;5;241m=\u001b[39mdtype, typ\u001b[38;5;241m=\u001b[39mtyp, consolidate\u001b[38;5;241m=\u001b[39mcopy)\n",
      "File \u001b[1;32mC:\\Anaconda\\Lib\\site-packages\\pandas\\core\\internals\\construction.py:114\u001b[0m, in \u001b[0;36marrays_to_mgr\u001b[1;34m(arrays, columns, index, dtype, verify_integrity, typ, consolidate)\u001b[0m\n\u001b[0;32m    111\u001b[0m \u001b[38;5;28;01mif\u001b[39;00m verify_integrity:\n\u001b[0;32m    112\u001b[0m     \u001b[38;5;66;03m# figure out the index, if necessary\u001b[39;00m\n\u001b[0;32m    113\u001b[0m     \u001b[38;5;28;01mif\u001b[39;00m index \u001b[38;5;129;01mis\u001b[39;00m \u001b[38;5;28;01mNone\u001b[39;00m:\n\u001b[1;32m--> 114\u001b[0m         index \u001b[38;5;241m=\u001b[39m _extract_index(arrays)\n\u001b[0;32m    115\u001b[0m     \u001b[38;5;28;01melse\u001b[39;00m:\n\u001b[0;32m    116\u001b[0m         index \u001b[38;5;241m=\u001b[39m ensure_index(index)\n",
      "File \u001b[1;32mC:\\Anaconda\\Lib\\site-packages\\pandas\\core\\internals\\construction.py:677\u001b[0m, in \u001b[0;36m_extract_index\u001b[1;34m(data)\u001b[0m\n\u001b[0;32m    675\u001b[0m lengths \u001b[38;5;241m=\u001b[39m \u001b[38;5;28mlist\u001b[39m(\u001b[38;5;28mset\u001b[39m(raw_lengths))\n\u001b[0;32m    676\u001b[0m \u001b[38;5;28;01mif\u001b[39;00m \u001b[38;5;28mlen\u001b[39m(lengths) \u001b[38;5;241m>\u001b[39m \u001b[38;5;241m1\u001b[39m:\n\u001b[1;32m--> 677\u001b[0m     \u001b[38;5;28;01mraise\u001b[39;00m \u001b[38;5;167;01mValueError\u001b[39;00m(\u001b[38;5;124m\"\u001b[39m\u001b[38;5;124mAll arrays must be of the same length\u001b[39m\u001b[38;5;124m\"\u001b[39m)\n\u001b[0;32m    679\u001b[0m \u001b[38;5;28;01mif\u001b[39;00m have_dicts:\n\u001b[0;32m    680\u001b[0m     \u001b[38;5;28;01mraise\u001b[39;00m \u001b[38;5;167;01mValueError\u001b[39;00m(\n\u001b[0;32m    681\u001b[0m         \u001b[38;5;124m\"\u001b[39m\u001b[38;5;124mMixing dicts with non-Series may lead to ambiguous ordering.\u001b[39m\u001b[38;5;124m\"\u001b[39m\n\u001b[0;32m    682\u001b[0m     )\n",
      "\u001b[1;31mValueError\u001b[0m: All arrays must be of the same length"
     ]
    }
   ],
   "source": [
    "def get_page(url):\n",
    "    response = requests.get(url);\n",
    "    if(response.status_code>=200 and response.status_code<=299):\n",
    "        page_contents=response.text;\n",
    "        doc= BeautifulSoup(page_contents,'html.parser');\n",
    "        return doc;\n",
    "    else:\n",
    "        return -1; \n",
    "def parse_page(doc):\n",
    "    #topic title tag\n",
    "    topic_title=[];\n",
    "    topic_descs=[];\n",
    "    topic_title_tags=doc.find_all('p',class_=\"f3 lh-condensed mb-0 mt-1 Link--primary\");\n",
    "    for tag in topic_title_tags:\n",
    "        topic_title.append(tag.text);\n",
    "        \n",
    "    #topic description tag\n",
    "    for tag in topic_desc_tags:\n",
    "        topic_descs.append(tag.text.strip());  \n",
    "\n",
    "    topic_link_tags = doc.find_all('a',class_=\"no-underline flex-1 d-flex flex-column\")\n",
    "    base_url=\"https://github.com/topic/\"\n",
    "    topic_url=[]\n",
    "    for tag in topic_title:\n",
    "        topic_url.append(base_url+tag);\n",
    "\n",
    "    #read the above data to pandas df and convert it to csv\n",
    "    topic_dict={\n",
    "        'title':topic_title,\n",
    "        'description':topic_descs,\n",
    "        'url':topic_url\n",
    "    }\n",
    "    topic_df=pd.DataFrame(topic_dict)\n",
    "    topic_df.to_csv('topics.csv',index=None)\n",
    "    return topic_dict\n",
    "parse_page(get_page(\"https://github.com/topic/COVID-19\"))\n"
   ]
  },
  {
   "cell_type": "code",
   "execution_count": 147,
   "id": "a970eef1",
   "metadata": {},
   "outputs": [],
   "source": [
    "def scrape_and_save_topic_info(main_url):\n",
    "    doc=get_page(main_url)\n",
    "    topics_dict=parse_page(doc)\n",
    "    for i in range(len(topics_dict)):\n",
    "        df=get_info(topics_dict['url'][i]);\n",
    "        csv_name=topic_dict['title'][i];\n",
    "        df.to_csv(csv_name,index=None);     \n",
    "    \n",
    "        \n",
    "        \n",
    "     \n",
    "def get_page(url):\n",
    "    response = requests.get(url);\n",
    "    if(response.status_code>=200 and response.status_code<=299):\n",
    "        page_contents=response.text;\n",
    "        doc= BeautifulSoup(page_contents,'html.parser');\n",
    "        return doc;\n",
    "    else:\n",
    "        raise Exception(\"Unable to fetch the given page\");\n",
    "    \n",
    "\n",
    "\n",
    "'''Defining a function which takes a beautiful soup doc and parses each topic of the given page and returns a csv file containing the information in the following format \n",
    "title,description,url'''\n",
    "def parse_page(doc):\n",
    "    topic_title=[];\n",
    "    topic_descs=[];\n",
    "    topic_url=[];\n",
    "    topic_title_tags=doc.find_all('p',class_=\"f3 lh-condensed mb-0 mt-1 Link--primary\");\n",
    "    for tag in topic_title_tags:\n",
    "            topic_title.append(tag.text);\n",
    "            \n",
    "    topic_desc_tags=doc.find_all('p',class_=\"f5 color-fg-muted mb-0 mt-1\")\n",
    "    for tag in topic_desc_tags:\n",
    "            topic_descs.append(tag.text.strip());\n",
    "            \n",
    "    topic_link_tags = doc.find_all('a',class_=\"no-underline flex-1 d-flex flex-column\")\n",
    "    base_url=\"https://github.com/topic/\"\n",
    "    for tag in topic_title:\n",
    "        topic_url.append(base_url+tag);\n",
    "\n",
    "    #read the above data to pandas df and convert it to csv\n",
    "    topic_dict={\n",
    "        'title':topic_title,\n",
    "        'description':topic_descs,\n",
    "        'url':topic_url\n",
    "    }\n",
    "    topic_df=pd.DataFrame(topic_dict)\n",
    "    topic_df.to_csv('topics.csv',index=None)\n",
    "    return topic_dict\n",
    "\n",
    "\n",
    "def get_info(topic_url): #done \n",
    "    #username    \n",
    "    soup=BeautifulSoup(requests.get(topic_url).text,'html.parser')\n",
    "    a_tags=soup.find_all('a')\n",
    "    h3_tags=soup.find_all('h3',class_=\"f3 color-fg-muted text-normal lh-condensed\")\n",
    "    usernames=[]                          \n",
    "    for i in range(0,10):\n",
    "        usernames.append(h3_tags[i].find_all('a')[0].text.strip())  \n",
    "\n",
    "\n",
    "    #stars \n",
    "    star_tag=soup.find_all('span',{'id':\"repo-stars-counter-star\"}) \n",
    "    stars_set=[]\n",
    "    for i in range(0,10):\n",
    "        stars=star_tag[i].text\n",
    "\n",
    "        if(stars[-1]=='k'):\n",
    "            stars=stars[0:-1]\n",
    "            stars_set.append(int(float(stars)*1000))\n",
    "        else:\n",
    "            stars_set.append(int(stars))\n",
    "\n",
    "\n",
    "    #repo name            \n",
    "    h3_tags=soup.find_all('h3',class_=\"f3 color-fg-muted text-normal lh-condensed\")\n",
    "    repo_names=[]\n",
    "    for i in range(0,10):\n",
    "        repo_names.append(h3_tags[i].find_all('a')[1].text.strip())\n",
    "\n",
    "\n",
    "\n",
    "    #repo URL    \n",
    "    repo_URLS=[]\n",
    "    for i in range(0,10):\n",
    "        base_URL=\"https://github.com\"\n",
    "        repo_URL= base_URL+h3_tags[i].find_all('a')[0]['href']\n",
    "        repo_URLS.append(repo_URL)\n",
    "\n",
    "\n",
    "\n",
    "    #Clubbing all the above information to one csv file in the following format\n",
    "    # repo name, user name, stars, repo url\n",
    "    repo_dict = {\n",
    "        'repo name':repo_names,\n",
    "        'user name':usernames,\n",
    "        'stars count':stars_set,\n",
    "        'repo url':repo_URLS\n",
    "    }\n",
    "    repo_df=pd.DataFrame(repo_dict)\n",
    "    repo_df.to_csv('repo.csv',index=None)\n",
    "    return repo_df\n",
    "\n",
    "    \n",
    "    "
   ]
  },
  {
   "cell_type": "code",
   "execution_count": 148,
   "id": "68f667ee",
   "metadata": {},
   "outputs": [],
   "source": [
    "scrape_and_save_topic_info(\"https://github.com/topics\")"
   ]
  },
  {
   "cell_type": "code",
   "execution_count": null,
   "id": "d13b8d4b",
   "metadata": {},
   "outputs": [],
   "source": []
  },
  {
   "cell_type": "code",
   "execution_count": null,
   "id": "1c611fd0",
   "metadata": {},
   "outputs": [],
   "source": []
  },
  {
   "cell_type": "code",
   "execution_count": null,
   "id": "096463bd",
   "metadata": {},
   "outputs": [],
   "source": []
  },
  {
   "cell_type": "code",
   "execution_count": null,
   "id": "507b7ff3",
   "metadata": {},
   "outputs": [],
   "source": []
  },
  {
   "cell_type": "code",
   "execution_count": null,
   "id": "2fec4884",
   "metadata": {},
   "outputs": [],
   "source": []
  },
  {
   "cell_type": "code",
   "execution_count": null,
   "id": "55f9aa63",
   "metadata": {},
   "outputs": [],
   "source": []
  },
  {
   "cell_type": "code",
   "execution_count": 87,
   "id": "51cb082e",
   "metadata": {},
   "outputs": [
    {
     "data": {
      "text/plain": [
       "{'title': ['3D',\n",
       "  'Ajax',\n",
       "  'Algorithm',\n",
       "  'Amp',\n",
       "  'Android',\n",
       "  'Angular',\n",
       "  'Ansible',\n",
       "  'API',\n",
       "  'Arduino',\n",
       "  'ASP.NET',\n",
       "  'Atom',\n",
       "  'Awesome Lists',\n",
       "  'Amazon Web Services',\n",
       "  'Azure',\n",
       "  'Babel',\n",
       "  'Bash',\n",
       "  'Bitcoin',\n",
       "  'Bootstrap',\n",
       "  'Bot',\n",
       "  'C',\n",
       "  'Chrome',\n",
       "  'Chrome extension',\n",
       "  'Command line interface',\n",
       "  'Clojure',\n",
       "  'Code quality',\n",
       "  'Code review',\n",
       "  'Compiler',\n",
       "  'Continuous integration',\n",
       "  'COVID-19',\n",
       "  'C++'],\n",
       " 'description': ['3D refers to the use of three-dimensional graphics, modeling, and animation in various industries.',\n",
       "  'Ajax is a technique for creating interactive web applications.',\n",
       "  'Algorithms are self-contained sequences that carry out a variety of tasks.',\n",
       "  'Amp is a non-blocking concurrency library for PHP.',\n",
       "  'Android is an operating system built by Google designed for mobile devices.',\n",
       "  'Angular is an open source web application platform.',\n",
       "  'Ansible is a simple and powerful automation engine.',\n",
       "  'An API (Application Programming Interface) is a collection of protocols and subroutines for building software.',\n",
       "  'Arduino is an open source platform for building electronic devices.',\n",
       "  'ASP.NET is a web framework for building modern web apps and services.',\n",
       "  'Atom is a open source text editor built with web technologies.',\n",
       "  'An awesome list is a list of awesome things curated by the community.',\n",
       "  'Amazon Web Services provides on-demand cloud computing platforms on a subscription basis.',\n",
       "  'Azure is a cloud computing service created by Microsoft.',\n",
       "  'Babel is a compiler for writing next generation JavaScript, today.',\n",
       "  'Bash is a shell and command language interpreter for the GNU operating system.',\n",
       "  'Bitcoin is a cryptocurrency developed by Satoshi Nakamoto.',\n",
       "  'Bootstrap is an HTML, CSS, and JavaScript framework.',\n",
       "  'A bot is an application that runs automated tasks over the Internet.',\n",
       "  'C is a general purpose programming language that first appeared in 1972.',\n",
       "  'Chrome is a web browser from the tech company Google.',\n",
       "  'Chrome extensions enable users to customize the Chrome browsing experience.',\n",
       "  'A CLI, or command-line interface, is a console that helps users issue commands to a program.',\n",
       "  'Clojure is a dynamic, general-purpose programming language.',\n",
       "  'Automate your code review with style, quality, security, and test‑coverage checks when you need them.',\n",
       "  'Ensure your code meets quality standards and ship with confidence.',\n",
       "  'Compilers are software that translate higher-level programming languages to lower-level languages (e.g. machine code).',\n",
       "  'Automatically build and test your code as you push it upstream, preventing bugs from being deployed to production.',\n",
       "  'The coronavirus disease 2019 (COVID-19) is an infectious disease caused by SARS-CoV-2.',\n",
       "  'C++ is a general purpose and object-oriented programming language.'],\n",
       " 'url': ['https://github.com/topic/3D',\n",
       "  'https://github.com/topic/Ajax',\n",
       "  'https://github.com/topic/Algorithm',\n",
       "  'https://github.com/topic/Amp',\n",
       "  'https://github.com/topic/Android',\n",
       "  'https://github.com/topic/Angular',\n",
       "  'https://github.com/topic/Ansible',\n",
       "  'https://github.com/topic/API',\n",
       "  'https://github.com/topic/Arduino',\n",
       "  'https://github.com/topic/ASP.NET',\n",
       "  'https://github.com/topic/Atom',\n",
       "  'https://github.com/topic/Awesome Lists',\n",
       "  'https://github.com/topic/Amazon Web Services',\n",
       "  'https://github.com/topic/Azure',\n",
       "  'https://github.com/topic/Babel',\n",
       "  'https://github.com/topic/Bash',\n",
       "  'https://github.com/topic/Bitcoin',\n",
       "  'https://github.com/topic/Bootstrap',\n",
       "  'https://github.com/topic/Bot',\n",
       "  'https://github.com/topic/C',\n",
       "  'https://github.com/topic/Chrome',\n",
       "  'https://github.com/topic/Chrome extension',\n",
       "  'https://github.com/topic/Command line interface',\n",
       "  'https://github.com/topic/Clojure',\n",
       "  'https://github.com/topic/Code quality',\n",
       "  'https://github.com/topic/Code review',\n",
       "  'https://github.com/topic/Compiler',\n",
       "  'https://github.com/topic/Continuous integration',\n",
       "  'https://github.com/topic/COVID-19',\n",
       "  'https://github.com/topic/C++']}"
      ]
     },
     "execution_count": 87,
     "metadata": {},
     "output_type": "execute_result"
    }
   ],
   "source": [
    "def parsed_dict(url):\n",
    "    doc= get_page(url);\n",
    "    doc_dict=parse_page(doc);\n",
    "    return doc_dict\n",
    "\n",
    "parsed_dict(\"https://github.com/topics\")"
   ]
  },
  {
   "cell_type": "code",
   "execution_count": 76,
   "id": "5f67794d",
   "metadata": {},
   "outputs": [],
   "source": [
    "topic_url=[]\n",
    "for tag in topic_title:\n",
    "    topic_url.append(base_url+tag)"
   ]
  },
  {
   "cell_type": "code",
   "execution_count": 77,
   "id": "0ef015a9",
   "metadata": {},
   "outputs": [
    {
     "data": {
      "text/plain": [
       "['https://github.com/topic/3D',\n",
       " 'https://github.com/topic/Ajax',\n",
       " 'https://github.com/topic/Algorithm',\n",
       " 'https://github.com/topic/Amp',\n",
       " 'https://github.com/topic/Android',\n",
       " 'https://github.com/topic/Angular',\n",
       " 'https://github.com/topic/Ansible',\n",
       " 'https://github.com/topic/API',\n",
       " 'https://github.com/topic/Arduino',\n",
       " 'https://github.com/topic/ASP.NET',\n",
       " 'https://github.com/topic/Atom',\n",
       " 'https://github.com/topic/Awesome Lists',\n",
       " 'https://github.com/topic/Amazon Web Services',\n",
       " 'https://github.com/topic/Azure',\n",
       " 'https://github.com/topic/Babel',\n",
       " 'https://github.com/topic/Bash',\n",
       " 'https://github.com/topic/Bitcoin',\n",
       " 'https://github.com/topic/Bootstrap',\n",
       " 'https://github.com/topic/Bot',\n",
       " 'https://github.com/topic/C',\n",
       " 'https://github.com/topic/Chrome',\n",
       " 'https://github.com/topic/Chrome extension',\n",
       " 'https://github.com/topic/Command line interface',\n",
       " 'https://github.com/topic/Clojure',\n",
       " 'https://github.com/topic/Code quality',\n",
       " 'https://github.com/topic/Code review',\n",
       " 'https://github.com/topic/Compiler',\n",
       " 'https://github.com/topic/Continuous integration',\n",
       " 'https://github.com/topic/COVID-19',\n",
       " 'https://github.com/topic/C++']"
      ]
     },
     "execution_count": 77,
     "metadata": {},
     "output_type": "execute_result"
    }
   ],
   "source": [
    "topic_url"
   ]
  },
  {
   "cell_type": "code",
   "execution_count": 45,
   "id": "9346310c",
   "metadata": {},
   "outputs": [],
   "source": [
    "#read the above data to pandas df and convert it to csv\n",
    "topic_dict={\n",
    "    'title':topic_title,\n",
    "    'description':topic_descs,\n",
    "    'url':topic_url\n",
    "}\n",
    "topic_df=pd.DataFrame(topic_dict)\n",
    "topic_df.to_csv('topics.csv',index=None)"
   ]
  },
  {
   "cell_type": "markdown",
   "id": "cb11acc9",
   "metadata": {},
   "source": [
    "### Getting information out of a topic page "
   ]
  },
  {
   "cell_type": "code",
   "execution_count": 30,
   "id": "2cbcdfd1",
   "metadata": {},
   "outputs": [],
   "source": [
    "#username\n",
    "topic_url0=topic_url[0]\n",
    "soup=BeautifulSoup(requests.get(topic_url0).text,'html.parser')\n",
    "a_tags=soup.find_all('a')"
   ]
  },
  {
   "cell_type": "code",
   "execution_count": 50,
   "id": "8213a190",
   "metadata": {},
   "outputs": [
    {
     "data": {
      "text/plain": [
       "['mrdoob',\n",
       " 'pmndrs',\n",
       " 'libgdx',\n",
       " 'BabylonJS',\n",
       " 'ssloy',\n",
       " 'lettier',\n",
       " 'FreeCAD',\n",
       " 'aframevr',\n",
       " 'CesiumGS',\n",
       " 'blender']"
      ]
     },
     "execution_count": 50,
     "metadata": {},
     "output_type": "execute_result"
    }
   ],
   "source": [
    "h3_tags=soup.find_all('h3',class_=\"f3 color-fg-muted text-normal lh-condensed\")\n",
    "usernames=[]\n",
    "for i in range(0,10):\n",
    "    usernames.append(h3_tags[i].find_all('a')[0].text.strip())\n",
    "usernames"
   ]
  },
  {
   "cell_type": "code",
   "execution_count": 52,
   "id": "6580ee34",
   "metadata": {},
   "outputs": [
    {
     "data": {
      "text/plain": [
       "['three.js',\n",
       " 'react-three-fiber',\n",
       " 'libgdx',\n",
       " 'Babylon.js',\n",
       " 'tinyrenderer',\n",
       " '3d-game-shaders-for-beginners',\n",
       " 'FreeCAD',\n",
       " 'aframe',\n",
       " 'cesium',\n",
       " 'blender']"
      ]
     },
     "execution_count": 52,
     "metadata": {},
     "output_type": "execute_result"
    }
   ],
   "source": [
    "#repo name\n",
    "h3_tags=soup.find_all('h3',class_=\"f3 color-fg-muted text-normal lh-condensed\")\n",
    "repo_names=[]\n",
    "for i in range(0,10):\n",
    "    repo_names.append(h3_tags[i].find_all('a')[1].text.strip())\n",
    "repo_names"
   ]
  },
  {
   "cell_type": "code",
   "execution_count": 63,
   "id": "b2e1a4ac",
   "metadata": {},
   "outputs": [
    {
     "data": {
      "text/plain": [
       "[96900, 25000, 22400, 21900, 18700, 16600, 16400, 16000, 11400, 10600]"
      ]
     },
     "execution_count": 63,
     "metadata": {},
     "output_type": "execute_result"
    }
   ],
   "source": [
    "#stars \n",
    "star_tag=soup.find_all('span',{'id':\"repo-stars-counter-star\"})\n",
    "stars_set=[]\n",
    "\n",
    "for i in range(0,10):\n",
    "    stars=star_tag[i].text\n",
    "    \n",
    "    if(stars[-1]=='k'):\n",
    "        stars=stars[0:-1]\n",
    "        stars_set.append(int(float(stars)*1000))\n",
    "    else:\n",
    "        stars_set.append(int(stars))\n",
    "stars_set"
   ]
  },
  {
   "cell_type": "code",
   "execution_count": 64,
   "id": "33148e6d",
   "metadata": {},
   "outputs": [
    {
     "data": {
      "text/plain": [
       "['https://github.com/mrdoob',\n",
       " 'https://github.com/pmndrs',\n",
       " 'https://github.com/libgdx',\n",
       " 'https://github.com/BabylonJS',\n",
       " 'https://github.com/ssloy',\n",
       " 'https://github.com/lettier',\n",
       " 'https://github.com/FreeCAD',\n",
       " 'https://github.com/aframevr',\n",
       " 'https://github.com/CesiumGS',\n",
       " 'https://github.com/blender']"
      ]
     },
     "execution_count": 64,
     "metadata": {},
     "output_type": "execute_result"
    }
   ],
   "source": [
    "#repo URL\n",
    "repo_URLS=[]\n",
    "for i in range(0, 10):\n",
    "    base_URL=\"https://github.com\"\n",
    "    repo_URL= base_URL+h3_tags[i].find_all('a')[0]['href']\n",
    "    repo_URLS.append(repo_URL)\n",
    "repo_URLS"
   ]
  },
  {
   "cell_type": "code",
   "execution_count": 66,
   "id": "9ab68d74",
   "metadata": {},
   "outputs": [],
   "source": [
    "#Clubbing all the above information to one csv file in the following format\n",
    "# repo name, user name, stars, repo url\n",
    "repo_dict = {\n",
    "    'repo name':repo_names,\n",
    "    'user name':usernames,\n",
    "    'stars count':stars_set,\n",
    "    'repo url':repo_URLS\n",
    "}\n",
    "repo_df=pd.DataFrame(repo_dict)\n",
    "repo_df.to_csv('repo.csv',index=None)"
   ]
  },
  {
   "cell_type": "markdown",
   "id": "7ffbefb9",
   "metadata": {},
   "source": [
    "### Creating function for the above \n"
   ]
  },
  {
   "cell_type": "code",
   "execution_count": 117,
   "id": "58ec3b9a",
   "metadata": {},
   "outputs": [],
   "source": [
    "def get_info(topic_url):\n",
    "    #username    \n",
    "    soup=BeautifulSoup(requests.get(topic_url).text,'html.parser')\n",
    "    a_tags=soup.find_all('a')\n",
    "    h3_tags=soup.find_all('h3',class_=\"f3 color-fg-muted text-normal lh-condensed\")\n",
    "    usernames=[]                          \n",
    "    for i in range(0,10):\n",
    "        usernames.append(h3_tags[i].find_all('a')[0].text.strip())        \n",
    "        \n",
    "    #stars \n",
    "\n",
    "    star_tag=soup.find_all('span',{'id':\"repo-stars-counter-star\"}) \n",
    "    stars_set=[]\n",
    "    for i in range(0,10):\n",
    "        stars=star_tag[i].text\n",
    "\n",
    "        if(stars[-1]=='k'):\n",
    "            stars=stars[0:-1]\n",
    "            stars_set.append(int(float(stars)*1000))\n",
    "        else:\n",
    "            stars_set.append(int(stars))\n",
    "            \n",
    "    \n",
    "    #repo name            \n",
    "    h3_tags=soup.find_all('h3',class_=\"f3 color-fg-muted text-normal lh-condensed\")\n",
    "    repo_names=[]\n",
    "    for i in range(0,10):\n",
    "        repo_names.append(h3_tags[i].find_all('a')[1].text.strip())\n",
    "        \n",
    "            \n",
    "    #repo URL    \n",
    "    repo_URLS=[]\n",
    "    for i in range(0,10):\n",
    "        base_URL=\"https://github.com\"\n",
    "        repo_URL= base_URL+h3_tags[i].find_all('a')[0]['href']\n",
    "        repo_URLS.append(repo_URL)\n",
    "    \n",
    "   \n",
    "        \n",
    "    #Clubbing all the above information to one csv file in the following format\n",
    "    # repo name, user name, stars, repo url\n",
    "    repo_dict = {\n",
    "        'repo name':repo_names,\n",
    "        'user name':usernames,\n",
    "        'stars count':stars_set,\n",
    "        'repo url':repo_URLS\n",
    "    }\n",
    "    repo_df=pd.DataFrame(repo_dict)\n",
    "    repo_df.to_csv('repo.csv',index=None)\n",
    "    return repo_df"
   ]
  },
  {
   "cell_type": "code",
   "execution_count": 118,
   "id": "b9daaf8f",
   "metadata": {
    "scrolled": true
   },
   "outputs": [
    {
     "data": {
      "text/html": [
       "<div>\n",
       "<style scoped>\n",
       "    .dataframe tbody tr th:only-of-type {\n",
       "        vertical-align: middle;\n",
       "    }\n",
       "\n",
       "    .dataframe tbody tr th {\n",
       "        vertical-align: top;\n",
       "    }\n",
       "\n",
       "    .dataframe thead th {\n",
       "        text-align: right;\n",
       "    }\n",
       "</style>\n",
       "<table border=\"1\" class=\"dataframe\">\n",
       "  <thead>\n",
       "    <tr style=\"text-align: right;\">\n",
       "      <th></th>\n",
       "      <th>repo name</th>\n",
       "      <th>user name</th>\n",
       "      <th>stars count</th>\n",
       "      <th>repo url</th>\n",
       "    </tr>\n",
       "  </thead>\n",
       "  <tbody>\n",
       "    <tr>\n",
       "      <th>0</th>\n",
       "      <td>Blog</td>\n",
       "      <td>ljianshu</td>\n",
       "      <td>7800</td>\n",
       "      <td>https://github.com/ljianshu</td>\n",
       "    </tr>\n",
       "    <tr>\n",
       "      <th>1</th>\n",
       "      <td>infinite-scroll</td>\n",
       "      <td>metafizzy</td>\n",
       "      <td>7400</td>\n",
       "      <td>https://github.com/metafizzy</td>\n",
       "    </tr>\n",
       "    <tr>\n",
       "      <th>2</th>\n",
       "      <td>tabulator</td>\n",
       "      <td>olifolkerd</td>\n",
       "      <td>5900</td>\n",
       "      <td>https://github.com/olifolkerd</td>\n",
       "    </tr>\n",
       "    <tr>\n",
       "      <th>3</th>\n",
       "      <td>unfetch</td>\n",
       "      <td>developit</td>\n",
       "      <td>5700</td>\n",
       "      <td>https://github.com/developit</td>\n",
       "    </tr>\n",
       "    <tr>\n",
       "      <th>4</th>\n",
       "      <td>form</td>\n",
       "      <td>jquery-form</td>\n",
       "      <td>5200</td>\n",
       "      <td>https://github.com/jquery-form</td>\n",
       "    </tr>\n",
       "    <tr>\n",
       "      <th>5</th>\n",
       "      <td>elFinder</td>\n",
       "      <td>Studio-42</td>\n",
       "      <td>4500</td>\n",
       "      <td>https://github.com/Studio-42</td>\n",
       "    </tr>\n",
       "    <tr>\n",
       "      <th>6</th>\n",
       "      <td>wretch</td>\n",
       "      <td>elbywan</td>\n",
       "      <td>4400</td>\n",
       "      <td>https://github.com/elbywan</td>\n",
       "    </tr>\n",
       "    <tr>\n",
       "      <th>7</th>\n",
       "      <td>learn-to-send-email-via-google-script-html-no-...</td>\n",
       "      <td>dwyl</td>\n",
       "      <td>3000</td>\n",
       "      <td>https://github.com/dwyl</td>\n",
       "    </tr>\n",
       "    <tr>\n",
       "      <th>8</th>\n",
       "      <td>reqwest</td>\n",
       "      <td>ded</td>\n",
       "      <td>2900</td>\n",
       "      <td>https://github.com/ded</td>\n",
       "    </tr>\n",
       "    <tr>\n",
       "      <th>9</th>\n",
       "      <td>ajax-hook</td>\n",
       "      <td>wendux</td>\n",
       "      <td>2500</td>\n",
       "      <td>https://github.com/wendux</td>\n",
       "    </tr>\n",
       "  </tbody>\n",
       "</table>\n",
       "</div>"
      ],
      "text/plain": [
       "                                           repo name    user name  \\\n",
       "0                                               Blog     ljianshu   \n",
       "1                                    infinite-scroll    metafizzy   \n",
       "2                                          tabulator   olifolkerd   \n",
       "3                                            unfetch    developit   \n",
       "4                                               form  jquery-form   \n",
       "5                                           elFinder    Studio-42   \n",
       "6                                             wretch      elbywan   \n",
       "7  learn-to-send-email-via-google-script-html-no-...         dwyl   \n",
       "8                                            reqwest          ded   \n",
       "9                                          ajax-hook       wendux   \n",
       "\n",
       "   stars count                        repo url  \n",
       "0         7800     https://github.com/ljianshu  \n",
       "1         7400    https://github.com/metafizzy  \n",
       "2         5900   https://github.com/olifolkerd  \n",
       "3         5700    https://github.com/developit  \n",
       "4         5200  https://github.com/jquery-form  \n",
       "5         4500    https://github.com/Studio-42  \n",
       "6         4400      https://github.com/elbywan  \n",
       "7         3000         https://github.com/dwyl  \n",
       "8         2900          https://github.com/ded  \n",
       "9         2500       https://github.com/wendux  "
      ]
     },
     "execution_count": 118,
     "metadata": {},
     "output_type": "execute_result"
    }
   ],
   "source": [
    "get_info(\"https://github.com/topic/Ajax\")"
   ]
  },
  {
   "cell_type": "markdown",
   "id": "27ecc2ea",
   "metadata": {},
   "source": [
    "# Creating a function which will combine all the above functions and do the following "
   ]
  },
  {
   "cell_type": "code",
   "execution_count": 123,
   "id": "c7095e5d",
   "metadata": {},
   "outputs": [
    {
     "data": {
      "text/plain": [
       "1"
      ]
     },
     "execution_count": 123,
     "metadata": {},
     "output_type": "execute_result"
    }
   ],
   "source": [
    "dict={1:[1,2,4],2:[1,2,4],3:[1,2,4]}\n",
    "dict[1][0]"
   ]
  },
  {
   "cell_type": "code",
   "execution_count": null,
   "id": "d9fc570e",
   "metadata": {},
   "outputs": [],
   "source": [
    "def parse_star_count()\n",
    "    star_tag=soup.find_al l('span',{'id':\"repo-stars-counter-star\"}) \n",
    "    stars_set=[]\n",
    "    for i in range(0,10):\n",
    "        stars=star_tag[i].text\n",
    "\n",
    "        if(stars[-1]=='k'):\n",
    "            stars=stars[0:-1]\n",
    "            stars_set.append(int(float(stars)*1000))\n",
    "        else:\n",
    "            stars_set.append(int(stars))"
   ]
  },
  {
   "cell_type": "code",
   "execution_count": null,
   "id": "c77d3b88",
   "metadata": {},
   "outputs": [],
   "source": []
  },
  {
   "cell_type": "code",
   "execution_count": 3,
   "id": "8d739119",
   "metadata": {},
   "outputs": [],
   "source": [
    "def get_repo_info(h1_tag,star_tag):\n",
    "    #returns all the required info about a repository\n",
    "    a_tags = h1_tag.find_all('a')\n",
    "    username = a_tags[0].text.strip()\n",
    "    repo_name=a_tags[1].text.strip()\n",
    "    repo_url = base_url+a_tags[1]['href']\n",
    "    stars=parse_star_count(star_tag.text.strip())\n",
    "    return username,repo_name,stars,repo_url"
   ]
  },
  {
   "cell_type": "markdown",
   "id": "8f09f8de",
   "metadata": {},
   "source": [
    "1) It will take an url as input. The function will first send a get request to this url and once successful, it will take the contents of the page and convert it to a beautiful soup document. \n",
    "2) We'll now use this document and scrape the list of topic present in that page and save it as a dictionary and a csv file.\n",
    "3) The saved dictionary contains information about the topic title, url and description. This dictionary will be fiurther used in the below manner. \n",
    "4) Each url of the dictionary will be given a get request and when successful , we will scrape that url and take the following information from each topic . \n",
    " ```\n",
    "     repo name, user name, stars count, repo url \n",
    " ```\n",
    " 5) Information parsed from each website will be saved in a csv file and thus our project would be over.\n",
    " "
   ]
  }
 ],
 "metadata": {
  "kernelspec": {
   "display_name": "Python 3 (ipykernel)",
   "language": "python",
   "name": "python3"
  },
  "language_info": {
   "codemirror_mode": {
    "name": "ipython",
    "version": 3
   },
   "file_extension": ".py",
   "mimetype": "text/x-python",
   "name": "python",
   "nbconvert_exporter": "python",
   "pygments_lexer": "ipython3",
   "version": "3.11.4"
  }
 },
 "nbformat": 4,
 "nbformat_minor": 5
}
